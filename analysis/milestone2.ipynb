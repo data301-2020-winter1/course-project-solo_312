import pandas as pd
import numpy as np
from scripts import project_functions # This is called a relative import
df = project_functions.load_and_process('http://data.insideairbnb.com/china/hk/hong-kong/2020-06-15/data/listings.csv.gz')
df
